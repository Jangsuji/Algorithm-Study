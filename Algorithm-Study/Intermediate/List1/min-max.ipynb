{
  "nbformat": 4,
  "nbformat_minor": 0,
  "metadata": {
    "colab": {
      "name": "I.ipynb",
      "provenance": [],
      "authorship_tag": "ABX9TyNgj1ibrRakaow4EbzJa+Sv",
      "include_colab_link": true
    },
    "kernelspec": {
      "name": "python3",
      "display_name": "Python 3"
    },
    "language_info": {
      "name": "python"
    }
  },
  "cells": [
    {
      "cell_type": "markdown",
      "metadata": {
        "id": "view-in-github",
        "colab_type": "text"
      },
      "source": [
        "<a href=\"https://colab.research.google.com/github/Jangsuji/Algorithm-Study/blob/master/Algorithm-Study/Intermediate/List1/min-max.ipynb\" target=\"_parent\"><img src=\"https://colab.research.google.com/assets/colab-badge.svg\" alt=\"Open In Colab\"/></a>"
      ]
    },
    {
      "cell_type": "markdown",
      "source": [
        "## min max\n",
        "\n",
        "N개의 양의 정수에서 가장 큰 수와 가장 작은 수의 차이를 출력하시오.\n",
        "\n",
        "\n",
        "[입력]\n",
        "\n",
        "첫 줄에 테스트 케이스의 수 T가 주어진다. ( 1 ≤ T ≤ 50 )\n",
        "\n",
        "각 케이스의 첫 줄에 양수의 개수 N이 주어진다. ( 5 ≤ N ≤ 1000 )\n",
        "\n",
        "다음 줄에 N개의 양수 ai가 주어진다. ( 1 ≤ ai≤ 1000000 )\n",
        "\n",
        "[출력]\n",
        "\n",
        "각 줄마다 \"#T\" (T는 테스트 케이스 번호)를 출력한 뒤, 답을 출력한다."
      ],
      "metadata": {
        "id": "pTGDlSQdTPcs"
      }
    },
    {
      "cell_type": "markdown",
      "source": [
        "[입력]\n",
        "\n",
        "  3\n",
        "\n",
        "  5\n",
        "\n",
        "  477162 658880 751280 927930 297191\n",
        "\n",
        "  5\n",
        "\n",
        "  565469 851600 460874 148692 111090\n",
        "\n",
        "  10\n",
        "\n",
        "  784386 279993 982220 996285 614710 992232 195265 359810 919192 158175\n",
        "\n",
        "[출력]\n",
        "  #1 630739\n",
        "  #2 740510\n",
        "  #3 838110"
      ],
      "metadata": {
        "id": "sj41u__yTgji"
      }
    },
    {
      "cell_type": "code",
      "source": [
        "test_case = int(input())\n",
        "data_dict = []\n",
        "\n",
        "for i in range(test_case):\n",
        "  number = int(input())\n",
        "  data_list = list(map(int, input().split()))\n",
        "  results = max(data_list) - min(data_list)\n",
        "  data_dict.append((i,results))\n",
        "\n",
        "data_dict = dict(data_dict)\n",
        "for key, value in data_dict.items():\n",
        "  print(\"#{0} {1}\".format(key+1, value))"
      ],
      "metadata": {
        "colab": {
          "base_uri": "https://localhost:8080/"
        },
        "id": "YBOqGLFOTew3",
        "outputId": "ab902ae3-3f73-4eec-adf3-5c143a712671"
      },
      "execution_count": 3,
      "outputs": [
        {
          "output_type": "stream",
          "name": "stdout",
          "text": [
            "3\n",
            "5\n",
            "477162 658880 751280 927930 297191\n",
            "5\n",
            "565469 851600 460874 148692 111090\n",
            "10\n",
            "784386 279993 982220 996285 614710 992232 195265 359810 919192 158175\n",
            "#1 630739\n",
            "#2 740510\n",
            "#3 838110\n"
          ]
        }
      ]
    },
    {
      "cell_type": "code",
      "source": [
        ""
      ],
      "metadata": {
        "id": "zbo6aS2uWWlE"
      },
      "execution_count": null,
      "outputs": []
    }
  ]
}