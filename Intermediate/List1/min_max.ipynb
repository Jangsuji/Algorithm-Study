{
  "nbformat": 4,
  "nbformat_minor": 0,
  "metadata": {
    "colab": {
      "name": "min-max.ipynb",
      "provenance": [],
      "authorship_tag": "ABX9TyMQJAkG6ixKajqWDgTUmWYd",
      "include_colab_link": true
    },
    "kernelspec": {
      "name": "python3",
      "display_name": "Python 3"
    },
    "language_info": {
      "name": "python"
    }
  },
  "cells": [
    {
      "cell_type": "markdown",
      "metadata": {
        "id": "view-in-github",
        "colab_type": "text"
      },
      "source": [
        "<a href=\"https://colab.research.google.com/github/Jangsuji/Algorithm-Study/blob/master/Intermediate/List1/min_max.ipynb\" target=\"_parent\"><img src=\"https://colab.research.google.com/assets/colab-badge.svg\" alt=\"Open In Colab\"/></a>"
      ]
    },
    {
      "cell_type": "code",
      "source": [
        "test_case = int(input())\n",
        "data_dict = []\n",
        "\n",
        "for i in range(test_case):\n",
        "  number = int(input())\n",
        "  data_list = list(map(int, input().split()))\n",
        "  results = max(data_list) - min(data_list)\n",
        "  data_dict.append((i,results))\n",
        "\n",
        "data_dict = dict(data_dict)\n",
        "for key, value in data_dict.items():\n",
        "  print(\"#{0} {1}\".format(key+1, value))"
      ],
      "metadata": {
        "colab": {
          "base_uri": "https://localhost:8080/"
        },
        "id": "YBOqGLFOTew3",
        "outputId": "ab902ae3-3f73-4eec-adf3-5c143a712671"
      },
      "execution_count": 3,
      "outputs": [
        {
          "output_type": "stream",
          "name": "stdout",
          "text": [
            "3\n",
            "5\n",
            "477162 658880 751280 927930 297191\n",
            "5\n",
            "565469 851600 460874 148692 111090\n",
            "10\n",
            "784386 279993 982220 996285 614710 992232 195265 359810 919192 158175\n",
            "#1 630739\n",
            "#2 740510\n",
            "#3 838110\n"
          ]
        }
      ]
    },
    {
      "cell_type": "code",
      "source": [
        ""
      ],
      "metadata": {
        "id": "zbo6aS2uWWlE"
      },
      "execution_count": null,
      "outputs": []
    }
  ]
}